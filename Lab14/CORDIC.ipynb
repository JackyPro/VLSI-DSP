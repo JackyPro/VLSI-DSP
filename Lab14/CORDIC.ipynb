{
 "cells": [
  {
   "cell_type": "markdown",
   "metadata": {},
   "source": [
    "# Define Arctan & Angles of Arctan(arctan of 1,1/2,1/4....)"
   ]
  },
  {
   "cell_type": "code",
   "execution_count": 47,
   "metadata": {},
   "outputs": [
    {
     "name": "stdout",
     "output_type": "stream",
     "text": [
      "arctan =\n",
      " [1.         0.5        0.25       0.125      0.0625     0.03125\n",
      " 0.015625   0.0078125  0.00390625 0.00195312]\n",
      "angle =\n",
      " [45.         26.56505118 14.03624347  7.12501635  3.57633437  1.78991061\n",
      "  0.89517371  0.44761417  0.2238105   0.11190568]\n"
     ]
    }
   ],
   "source": [
    "import numpy as np\n",
    "import math\n",
    "#get the arctan of 1,1/2,1/4....\n",
    "n =10  #for interations\n",
    "arctan_value = np.zeros((n,))\n",
    "for i in range(0,n) :\n",
    "    arctan_value[i] = (1/2)**i\n",
    "print(\"arctan =\"+\"\\n\",arctan_value)\n",
    "angle_e = np.degrees(np.arctan(arctan_value))\n",
    "print(\"angle =\"+\"\\n\",angle_e)\n",
    "f = open('cordic_arctan.v','w')\n",
    "f.write( \"\\n get the arctan of 1,1/2,1/4....\" )\n",
    "for i in range(0,n):\n",
    "    f.write(\"\\n `define angle\"+ str(i) +\" \" + str(angle_e[i]))\n",
    "f.write( \"\\n\\n get the cos_e of \"+ str(n) +\"iterations\" )   \n",
    "cos_e = np.cos(angle_e*np.pi/180)\n",
    "k = 1\n",
    "for i in range(0,n):\n",
    "    k = cos_e[i]*k\n",
    "    f.write( \"\\n cos_\"+ str(i) + \":  \" + str(cos_e[i]) )\n",
    "f.write(\"\\n\\n get K = cos_0*cos_1*cos_2... = \"+str(k))  \n",
    "f.close()"
   ]
  },
  {
   "cell_type": "markdown",
   "metadata": {},
   "source": [
    "# Define Angles"
   ]
  },
  {
   "cell_type": "code",
   "execution_count": 48,
   "metadata": {},
   "outputs": [],
   "source": [
    "x = k        #初始化为K，因此避免最后需要乘以k                              \n",
    "y = 0                                      \n",
    "angle = 60  #需要求得角度                  \n",
    "x_p = np.zeros((n,2))                     \n",
    "y_p = np.zeros((n,2))                     \n",
    "\n",
    "for i in range(0,n):                      \n",
    "    if angle > 0:                          \n",
    "        x_h = x - y*arctan_value[i]        \n",
    "        y_h = y + x*arctan_value[i]        \n",
    "        angle = angle - angle_e[i]         \n",
    "    else :                                 \n",
    "        x_h = x + y*arctan_value[i]        \n",
    "        y_h = y - x*arctan_value[i]        \n",
    "        angle = angle + angle_e[i]         \n",
    "    x = x_h               \n",
    "    y = y_h                                         \n",
    "\n",
    "cos_angle = x      #所求角度的cos值                        \n",
    "sin_angle = y      #所求角度的sin值"
   ]
  },
  {
   "cell_type": "markdown",
   "metadata": {},
   "source": [
    "# Check angles"
   ]
  },
  {
   "cell_type": "code",
   "execution_count": 49,
   "metadata": {},
   "outputs": [
    {
     "name": "stdout",
     "output_type": "stream",
     "text": [
      "\n",
      " get the arctan of 1,1/2,1/4....\n",
      " `define angle0 45.0\n",
      " `define angle1 26.56505117707799\n",
      " `define angle2 14.036243467926479\n",
      " `define angle3 7.125016348901798\n",
      " `define angle4 3.576334374997351\n",
      " `define angle5 1.7899106082460694\n",
      " `define angle6 0.8951737102110744\n",
      " `define angle7 0.4476141708605531\n",
      " `define angle8 0.22381050036853808\n",
      " `define angle9 0.1119056770662069\n",
      "\n",
      " get the cos_e of 10iterations\n",
      " cos_0:  0.7071067811865476\n",
      " cos_1:  0.8944271909999159\n",
      " cos_2:  0.9701425001453319\n",
      " cos_3:  0.9922778767136676\n",
      " cos_4:  0.9980525784828885\n",
      " cos_5:  0.9995120760870788\n",
      " cos_6:  0.9998779520346953\n",
      " cos_7:  0.9999694838187878\n",
      " cos_8:  0.9999923706927791\n",
      " cos_9:  0.9999980926568242\n",
      "\n",
      " get K = cos_0*cos_1*cos_2... = 0.6072533210898753\n"
     ]
    }
   ],
   "source": [
    "ff   = open('cordic_arctan.v','r')\n",
    "word = ff.read()\n",
    "print(word)\n",
    "f.close()    "
   ]
  },
  {
   "cell_type": "markdown",
   "metadata": {},
   "source": [
    "# Sin & Cos value"
   ]
  },
  {
   "cell_type": "code",
   "execution_count": 50,
   "metadata": {},
   "outputs": [
    {
     "name": "stdout",
     "output_type": "stream",
     "text": [
      "cos= 0.4989286481480157\n",
      "sin= 0.866643066121915\n"
     ]
    }
   ],
   "source": [
    "print(\"cos=\", cos_angle)\n",
    "print(\"sin=\", sin_angle)"
   ]
  },
  {
   "cell_type": "code",
   "execution_count": null,
   "metadata": {},
   "outputs": [],
   "source": []
  }
 ],
 "metadata": {
  "kernelspec": {
   "display_name": "Python 3",
   "language": "python",
   "name": "python3"
  },
  "language_info": {
   "codemirror_mode": {
    "name": "ipython",
    "version": 3
   },
   "file_extension": ".py",
   "mimetype": "text/x-python",
   "name": "python",
   "nbconvert_exporter": "python",
   "pygments_lexer": "ipython3",
   "version": "3.8.3"
  }
 },
 "nbformat": 4,
 "nbformat_minor": 4
}
